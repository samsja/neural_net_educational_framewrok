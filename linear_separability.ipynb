{
 "cells": [
  {
   "cell_type": "markdown",
   "metadata": {},
   "source": [
    "# Is a 4-d boolean function sepereable ?"
   ]
  },
  {
   "cell_type": "code",
   "execution_count": 5,
   "metadata": {},
   "outputs": [],
   "source": [
    "import numpy as np"
   ]
  },
  {
   "cell_type": "code",
   "execution_count": 6,
   "metadata": {},
   "outputs": [],
   "source": [
    "from tqdm import tqdm"
   ]
  },
  {
   "cell_type": "code",
   "execution_count": 7,
   "metadata": {},
   "outputs": [],
   "source": [
    "import matplotlib.pyplot as plt"
   ]
  },
  {
   "cell_type": "markdown",
   "metadata": {},
   "source": [
    "## load the data for the function"
   ]
  },
  {
   "cell_type": "code",
   "execution_count": 8,
   "metadata": {},
   "outputs": [],
   "source": [
    "data = np.genfromtxt('data/input_data_numeric.csv', delimiter=',')"
   ]
  },
  {
   "cell_type": "code",
   "execution_count": 9,
   "metadata": {
    "scrolled": true
   },
   "outputs": [
    {
     "data": {
      "text/plain": [
       "(16, 5)"
      ]
     },
     "execution_count": 9,
     "metadata": {},
     "output_type": "execute_result"
    }
   ],
   "source": [
    "data.shape"
   ]
  },
  {
   "cell_type": "code",
   "execution_count": 10,
   "metadata": {},
   "outputs": [],
   "source": [
    "inputs = data[:,1:5].T"
   ]
  },
  {
   "cell_type": "code",
   "execution_count": 11,
   "metadata": {},
   "outputs": [],
   "source": [
    "test_output = np.array( [1, 1, 1, 1, 1, 1, -1, -1, 1, 1, 1, 1, 1, -1, 1, -1] )"
   ]
  },
  {
   "cell_type": "markdown",
   "metadata": {},
   "source": [
    "## define the perceptron structure"
   ]
  },
  {
   "cell_type": "code",
   "execution_count": 12,
   "metadata": {},
   "outputs": [],
   "source": [
    "from src.perceptron import Perceptron"
   ]
  },
  {
   "cell_type": "code",
   "execution_count": 13,
   "metadata": {},
   "outputs": [],
   "source": [
    "activation_func = lambda x : np.tanh(x/2)"
   ]
  },
  {
   "cell_type": "code",
   "execution_count": 14,
   "metadata": {},
   "outputs": [],
   "source": [
    "derivate_activation_func = lambda x :  (1-np.tanh(x/2)**2)/2"
   ]
  },
  {
   "cell_type": "markdown",
   "metadata": {},
   "source": [
    "## Define energy func and grad"
   ]
  },
  {
   "cell_type": "code",
   "execution_count": 15,
   "metadata": {},
   "outputs": [],
   "source": [
    "neuron = Perceptron(inputs.shape[0],activation_func,derivate_activation_func)"
   ]
  },
  {
   "cell_type": "code",
   "execution_count": 12,
   "metadata": {},
   "outputs": [
    {
     "data": {
      "text/plain": [
       "-0.11568118942924178"
      ]
     },
     "execution_count": 12,
     "metadata": {},
     "output_type": "execute_result"
    }
   ],
   "source": [
    "neuron.activate(inputs[:,0])"
   ]
  },
  {
   "cell_type": "code",
   "execution_count": 13,
   "metadata": {},
   "outputs": [
    {
     "data": {
      "text/plain": [
       "0.49330893120611796"
      ]
     },
     "execution_count": 13,
     "metadata": {},
     "output_type": "execute_result"
    }
   ],
   "source": [
    "neuron.derivate(inputs[:,0])"
   ]
  },
  {
   "cell_type": "code",
   "execution_count": 14,
   "metadata": {},
   "outputs": [],
   "source": [
    "def energy_func(p,inputs,real_value):\n",
    "    return (((p.activate(inputs)-real_value)**2)/2).mean()\n",
    "\n",
    "def grad_enery(p,inputs,real_value):\n",
    "    \n",
    "    grad_w = 2*((p.activate(inputs)-real_value)/2)*inputs*p.derivate(inputs)\n",
    "    \n",
    "    grad_b = 2*((p.activate(inputs)-real_value)/2)*p.derivate(inputs)\n",
    "    \n",
    "    if len(grad_w.shape) > 1:\n",
    "        return np.concatenate((grad_w,np.expand_dims(grad_b,axis=0))).mean(axis=1)\n",
    "    else:\n",
    "        return np.concatenate((grad_w,np.expand_dims(grad_b,axis=0)))"
   ]
  },
  {
   "cell_type": "code",
   "execution_count": 15,
   "metadata": {},
   "outputs": [
    {
     "data": {
      "text/plain": [
       "0.5667964819938351"
      ]
     },
     "execution_count": 15,
     "metadata": {},
     "output_type": "execute_result"
    }
   ],
   "source": [
    "energy_func(neuron,inputs,test_output)"
   ]
  },
  {
   "cell_type": "code",
   "execution_count": 16,
   "metadata": {},
   "outputs": [
    {
     "data": {
      "text/plain": [
       "array([ 0.5503755,  0.5503755,  0.5503755,  0.5503755, -0.5503755])"
      ]
     },
     "execution_count": 16,
     "metadata": {},
     "output_type": "execute_result"
    }
   ],
   "source": [
    "grad_enery(neuron,inputs[:,0],test_output[0])"
   ]
  },
  {
   "cell_type": "code",
   "execution_count": 17,
   "metadata": {},
   "outputs": [
    {
     "data": {
      "text/plain": [
       "(5,)"
      ]
     },
     "execution_count": 17,
     "metadata": {},
     "output_type": "execute_result"
    }
   ],
   "source": [
    "grad_enery(neuron,inputs,test_output).shape"
   ]
  },
  {
   "cell_type": "markdown",
   "metadata": {},
   "source": [
    "## train the weights"
   ]
  },
  {
   "cell_type": "code",
   "execution_count": 18,
   "metadata": {},
   "outputs": [],
   "source": [
    "def check_for_linear_separability(inputs,outputs,nb_epoch,lr,method=\"grad\",plot=True):\n",
    "    \n",
    "    neuron = Perceptron(inputs.shape[0],activation_func,derivate_activation_func)\n",
    "    energies = np.zeros(nb_epoch)\n",
    "    \n",
    "    \n",
    "    for i in tqdm(range(nb_epoch)):\n",
    "\n",
    "\n",
    "        #inputs_method = inputs # gradient descent\n",
    "        \n",
    "        if method == \"grad\":\n",
    "            inputs_method = inputs\n",
    "            outputs_method = outputs\n",
    "        \n",
    "        elif method == \"sequential\":\n",
    "            index = i%inputs.shape[1]\n",
    "            inputs_method = inputs[:,index]\n",
    "            outputs_method = outputs[index]\n",
    "            \n",
    "        elif method == \"sto\":\n",
    "            index = np.random.randint(inputs.shape[1])\n",
    "            inputs_method = inputs[:,index]\n",
    "            outputs_method = outputs[index]\n",
    "        \n",
    "        else:\n",
    "            raise ValueError(f\"{method} is not a method\")\n",
    "            \n",
    "        energies[i] =energy_func(neuron,inputs_method,outputs_method)\n",
    "\n",
    "        grad = grad_enery(neuron,inputs_method,outputs_method)\n",
    "\n",
    "        grad_b = grad[-1]\n",
    "        grad_w = grad[0:-1]\n",
    "\n",
    "        neuron.w = neuron.w - lr*grad_w\n",
    "        neuron.b = neuron.b - lr*grad_b\n",
    "\n",
    "    \n",
    "    if plot:\n",
    "        plt.plot(energies)\n",
    "        print(energies[-1])\n",
    "    \n",
    "    return (np.sign(neuron.activate(inputs)) == outputs).all()"
   ]
  },
  {
   "cell_type": "markdown",
   "metadata": {},
   "source": [
    "## test on functions"
   ]
  },
  {
   "cell_type": "code",
   "execution_count": 19,
   "metadata": {},
   "outputs": [],
   "source": [
    "nb_epoch=int(1e3)\n",
    "lr = 0.02"
   ]
  },
  {
   "cell_type": "code",
   "execution_count": 20,
   "metadata": {},
   "outputs": [],
   "source": [
    "output = np.array( [1, 1, 1, 1, 1, 1, -1, -1, 1, 1, 1, 1, 1, -1, 1, -1] )"
   ]
  },
  {
   "cell_type": "code",
   "execution_count": 21,
   "metadata": {
    "scrolled": false
   },
   "outputs": [
    {
     "name": "stderr",
     "output_type": "stream",
     "text": [
      "100%|██████████| 1000/1000 [00:00<00:00, 17519.04it/s]"
     ]
    },
    {
     "name": "stdout",
     "output_type": "stream",
     "text": [
      "4.334804517529614e-08\n"
     ]
    },
    {
     "name": "stderr",
     "output_type": "stream",
     "text": [
      "\n"
     ]
    },
    {
     "data": {
      "text/plain": [
       "True"
      ]
     },
     "execution_count": 21,
     "metadata": {},
     "output_type": "execute_result"
    },
    {
     "data": {
      "image/png": "[encoded data removed]",
      "text/plain": [
       "<Figure size 432x288 with 1 Axes>"
      ]
     },
     "metadata": {
      "needs_background": "light"
     },
     "output_type": "display_data"
    }
   ],
   "source": [
    "check_for_linear_separability(inputs,output,nb_epoch,lr=lr*inputs.shape[0],method=\"sto\")"
   ]
  },
  {
   "cell_type": "code",
   "execution_count": 22,
   "metadata": {},
   "outputs": [
    {
     "name": "stderr",
     "output_type": "stream",
     "text": [
      "100%|██████████| 1000/1000 [00:00<00:00, 12573.61it/s]\n"
     ]
    },
    {
     "name": "stdout",
     "output_type": "stream",
     "text": [
      "0.10428084607907004\n"
     ]
    },
    {
     "data": {
      "text/plain": [
       "True"
      ]
     },
     "execution_count": 22,
     "metadata": {},
     "output_type": "execute_result"
    },
    {
     "data": {
      "image/png": "[encoded data removed]",
      "text/plain": [
       "<Figure size 432x288 with 1 Axes>"
      ]
     },
     "metadata": {
      "needs_background": "light"
     },
     "output_type": "display_data"
    }
   ],
   "source": [
    "check_for_linear_separability(inputs,output,nb_epoch,lr,method=\"grad\")"
   ]
  },
  {
   "cell_type": "code",
   "execution_count": 23,
   "metadata": {
    "scrolled": true
   },
   "outputs": [
    {
     "name": "stderr",
     "output_type": "stream",
     "text": [
      "100%|██████████| 1000/1000 [00:00<00:00, 20635.07it/s]"
     ]
    },
    {
     "name": "stdout",
     "output_type": "stream",
     "text": [
      "0.09137690727387462\n"
     ]
    },
    {
     "name": "stderr",
     "output_type": "stream",
     "text": [
      "\n"
     ]
    },
    {
     "data": {
      "text/plain": [
       "True"
      ]
     },
     "execution_count": 23,
     "metadata": {},
     "output_type": "execute_result"
    },
    {
     "data": {
      "image/png": "[encoded data removed]",
      "text/plain": [
       "<Figure size 432x288 with 1 Axes>"
      ]
     },
     "metadata": {
      "needs_background": "light"
     },
     "output_type": "display_data"
    }
   ],
   "source": [
    "check_for_linear_separability(inputs,output,nb_epoch,lr=lr*inputs.shape[0],method=\"sequential\")"
   ]
  },
  {
   "cell_type": "markdown",
   "metadata": {},
   "source": [
    "# Answer the questions"
   ]
  },
  {
   "cell_type": "code",
   "execution_count": 24,
   "metadata": {},
   "outputs": [],
   "source": [
    "outputs = [0,1,2,3,4,5]"
   ]
  },
  {
   "cell_type": "code",
   "execution_count": 25,
   "metadata": {},
   "outputs": [],
   "source": [
    "outputs[0] = np.array(  [1, 1, 1, 1, 1, 1, -1, -1, 1, 1, 1, 1, 1, -1, 1, -1]  )\n",
    "outputs[1] = np.array([1, 1, -1, 1, -1, 1, 1, 1, -1, -1, -1, -1, -1, -1, -1, -1] )\n",
    "outputs[2] = np.array([1, 1, 1, -1, -1, 1, -1, -1, -1, 1, -1, -1, -1, -1, -1, -1] )\n",
    "outputs[3] = np.array([1, -1, 1, 1, -1, 1, 1, 1, 1, -1, -1, 1, -1, 1, 1, -1])\n",
    "outputs[4] = np.array([-1, -1, 1, 1, 1, -1, -1, -1, -1, 1, 1, -1, 1, 1, 1, -1])\n",
    "outputs[5] = np.array([-1, -1, -1, 1, -1, 1, -1, -1, 1, -1, -1, 1, -1, -1, -1, -1])"
   ]
  },
  {
   "cell_type": "code",
   "execution_count": 26,
   "metadata": {},
   "outputs": [],
   "source": [
    "nb_epoch=int(1e5)\n",
    "lr = 0.02\n",
    "max_tries = 10"
   ]
  },
  {
   "cell_type": "code",
   "execution_count": 27,
   "metadata": {
    "scrolled": true
   },
   "outputs": [
    {
     "name": "stderr",
     "output_type": "stream",
     "text": [
      "100%|██████████| 100000/100000 [00:04<00:00, 24893.81it/s]\n",
      "  5%|▍         | 4905/100000 [00:00<00:03, 24622.25it/s]"
     ]
    },
    {
     "name": "stdout",
     "output_type": "stream",
     "text": [
      "=== 0 is True ====\n"
     ]
    },
    {
     "name": "stderr",
     "output_type": "stream",
     "text": [
      "100%|██████████| 100000/100000 [00:04<00:00, 24522.64it/s]\n",
      "  5%|▍         | 4865/100000 [00:00<00:03, 24295.38it/s]"
     ]
    },
    {
     "name": "stdout",
     "output_type": "stream",
     "text": [
      "=== 1 is True ====\n"
     ]
    },
    {
     "name": "stderr",
     "output_type": "stream",
     "text": [
      "100%|██████████| 100000/100000 [00:03<00:00, 25182.19it/s]\n",
      "  5%|▌         | 5167/100000 [00:00<00:03, 25794.31it/s]"
     ]
    },
    {
     "name": "stdout",
     "output_type": "stream",
     "text": [
      "=== 2 is True ====\n"
     ]
    },
    {
     "name": "stderr",
     "output_type": "stream",
     "text": [
      "100%|██████████| 100000/100000 [00:03<00:00, 25265.49it/s]\n",
      "100%|██████████| 100000/100000 [00:04<00:00, 24987.33it/s]\n",
      "100%|██████████| 100000/100000 [00:04<00:00, 24021.02it/s]\n",
      "100%|██████████| 100000/100000 [00:04<00:00, 24620.11it/s]\n",
      "100%|██████████| 100000/100000 [00:04<00:00, 23572.40it/s]\n",
      "100%|██████████| 100000/100000 [00:04<00:00, 21508.09it/s]\n",
      "100%|██████████| 100000/100000 [00:04<00:00, 21706.58it/s]\n",
      "100%|██████████| 100000/100000 [00:04<00:00, 21805.43it/s]\n",
      "100%|██████████| 100000/100000 [00:04<00:00, 21135.35it/s]\n",
      "100%|██████████| 100000/100000 [00:04<00:00, 21626.52it/s]\n",
      "  2%|▏         | 2286/100000 [00:00<00:04, 22858.01it/s]"
     ]
    },
    {
     "name": "stdout",
     "output_type": "stream",
     "text": [
      "=== 3 is False ====\n"
     ]
    },
    {
     "name": "stderr",
     "output_type": "stream",
     "text": [
      "100%|██████████| 100000/100000 [00:04<00:00, 21558.17it/s]\n",
      "100%|██████████| 100000/100000 [00:04<00:00, 22092.85it/s]\n",
      "100%|██████████| 100000/100000 [00:04<00:00, 22178.04it/s]\n",
      "100%|██████████| 100000/100000 [00:04<00:00, 22606.92it/s]\n",
      "100%|██████████| 100000/100000 [00:04<00:00, 22425.68it/s]\n",
      "100%|██████████| 100000/100000 [00:04<00:00, 22192.20it/s]\n",
      "100%|██████████| 100000/100000 [00:04<00:00, 20987.65it/s]\n",
      "100%|██████████| 100000/100000 [00:04<00:00, 20541.15it/s]\n",
      "100%|██████████| 100000/100000 [00:04<00:00, 22251.84it/s]\n",
      "100%|██████████| 100000/100000 [00:04<00:00, 22447.66it/s]\n",
      "  4%|▍         | 4374/100000 [00:00<00:04, 21709.47it/s]"
     ]
    },
    {
     "name": "stdout",
     "output_type": "stream",
     "text": [
      "=== 4 is False ====\n"
     ]
    },
    {
     "name": "stderr",
     "output_type": "stream",
     "text": [
      "100%|██████████| 100000/100000 [00:04<00:00, 22514.25it/s]\n",
      "100%|██████████| 100000/100000 [00:04<00:00, 22457.88it/s]\n",
      "100%|██████████| 100000/100000 [00:04<00:00, 22424.54it/s]\n",
      "100%|██████████| 100000/100000 [00:04<00:00, 22193.00it/s]\n",
      "100%|██████████| 100000/100000 [00:04<00:00, 22523.40it/s]\n",
      "100%|██████████| 100000/100000 [00:04<00:00, 22461.54it/s]\n",
      "100%|██████████| 100000/100000 [00:04<00:00, 22269.64it/s]\n",
      "100%|██████████| 100000/100000 [00:04<00:00, 22394.13it/s]\n",
      "100%|██████████| 100000/100000 [00:04<00:00, 21289.95it/s]\n",
      "100%|██████████| 100000/100000 [00:04<00:00, 21950.01it/s]"
     ]
    },
    {
     "name": "stdout",
     "output_type": "stream",
     "text": [
      "=== 5 is False ====\n"
     ]
    },
    {
     "name": "stderr",
     "output_type": "stream",
     "text": [
      "\n"
     ]
    }
   ],
   "source": [
    "for i in range(6):\n",
    "        \n",
    "    for _ in range(max_tries):\n",
    "        is_seperable = check_for_linear_separability(inputs,outputs[i],nb_epoch,lr,method=\"sequential\",plot=False)\n",
    "        if is_seperable:\n",
    "            break\n",
    "    print(f\"=== {i} is {is_seperable} ====\")"
   ]
  }
 ],
 "metadata": {
  "kernelspec": {
   "display_name": "Python 3",
   "language": "python",
   "name": "python3"
  },
  "language_info": {
   "codemirror_mode": {
    "name": "ipython",
    "version": 3
   },
   "file_extension": ".py",
   "mimetype": "text/x-python",
   "name": "python",
   "nbconvert_exporter": "python",
   "pygments_lexer": "ipython3",
   "version": "3.8.5"
  }
 },
 "nbformat": 4,
 "nbformat_minor": 4
}
