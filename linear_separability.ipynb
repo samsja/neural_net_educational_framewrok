{
 "cells": [
  {
   "cell_type": "markdown",
   "metadata": {},
   "source": [
    "# Is a 4-d boolean function sepereable ?"
   ]
  },
  {
   "cell_type": "code",
   "execution_count": 2,
   "metadata": {},
   "outputs": [],
   "source": [
    "import numpy as np"
   ]
  },
  {
   "cell_type": "code",
   "execution_count": 245,
   "metadata": {},
   "outputs": [],
   "source": [
    "from tqdm import tqdm"
   ]
  },
  {
   "cell_type": "code",
   "execution_count": 248,
   "metadata": {},
   "outputs": [],
   "source": [
    "import matplotlib.pyplot as plt"
   ]
  },
  {
   "cell_type": "markdown",
   "metadata": {},
   "source": [
    "## load the data for the function"
   ]
  },
  {
   "cell_type": "code",
   "execution_count": 8,
   "metadata": {},
   "outputs": [],
   "source": [
    "data = np.genfromtxt('data/input_data_numeric.csv', delimiter=',')"
   ]
  },
  {
   "cell_type": "code",
   "execution_count": 14,
   "metadata": {
    "scrolled": true
   },
   "outputs": [
    {
     "data": {
      "text/plain": [
       "(16, 5)"
      ]
     },
     "execution_count": 14,
     "metadata": {},
     "output_type": "execute_result"
    }
   ],
   "source": [
    "data.shape"
   ]
  },
  {
   "cell_type": "code",
   "execution_count": 75,
   "metadata": {},
   "outputs": [],
   "source": [
    "inputs = data[:,1:5].T"
   ]
  },
  {
   "cell_type": "code",
   "execution_count": 76,
   "metadata": {},
   "outputs": [],
   "source": [
    "test_output = np.array( [1, 1, 1, 1, 1, 1, -1, -1, 1, 1, 1, 1, 1, -1, 1, -1] )"
   ]
  },
  {
   "cell_type": "markdown",
   "metadata": {},
   "source": [
    "## define the perceptron structure"
   ]
  },
  {
   "cell_type": "code",
   "execution_count": 77,
   "metadata": {},
   "outputs": [],
   "source": [
    "class Perceptron:\n",
    "    \n",
    "    def __init__(self,number_of_input,activation_function,derivate_activation_function,weight=None,bias=None,random_weight=True,weight_range=0.2,bias_range=1):\n",
    "        \n",
    "        self.n = number_of_input\n",
    "        self.activation_function = activation_function\n",
    "        self.derivate_activation_function = derivate_activation_function\n",
    "        \n",
    "        if (weight==None):\n",
    "            if random_weight:\n",
    "                self.w = weight_range*(2*np.random.rand(self.n) - 1)\n",
    "            else:\n",
    "                self.w = np.zeros(self.n)\n",
    "        \n",
    "        else:\n",
    "            if not(weight.shape== (self.n,)):\n",
    "                raise ValueError(f\"weight param should be of shape ({self.n},) but it is {weight.shape}\")\n",
    "            else:\n",
    "                self.w = weight\n",
    "        \n",
    "        if (bias==None):\n",
    "            if random_weight:\n",
    "                self.b= bias_range*(2*np.random.rand()-1)\n",
    "            else:\n",
    "                self.b = 0\n",
    "        \n",
    "        else:\n",
    "            self.b = bias\n",
    "    \n",
    "    \n",
    "    def activate(self,x):        \n",
    "        return self.activation_function(self.w.T@x + self.b)\n",
    "    \n",
    "    def derivate(self,x):\n",
    "        return self.derivate_activation_function(self.w.T@x + self.b)\n"
   ]
  },
  {
   "cell_type": "code",
   "execution_count": 78,
   "metadata": {},
   "outputs": [],
   "source": [
    "activation_func = lambda x : np.tanh(x/2)"
   ]
  },
  {
   "cell_type": "code",
   "execution_count": 79,
   "metadata": {},
   "outputs": [],
   "source": [
    "derivate_activation_func = lambda x :  (1-np.tanh(x/2)**2)/2"
   ]
  },
  {
   "cell_type": "markdown",
   "metadata": {},
   "source": [
    "## Define energy func and grad"
   ]
  },
  {
   "cell_type": "code",
   "execution_count": 398,
   "metadata": {},
   "outputs": [],
   "source": [
    "neuron = Perceptron(inputs.shape[0],activation_func,derivate_activation_func)"
   ]
  },
  {
   "cell_type": "code",
   "execution_count": 399,
   "metadata": {},
   "outputs": [
    {
     "data": {
      "text/plain": [
       "0.511569063202566"
      ]
     },
     "execution_count": 399,
     "metadata": {},
     "output_type": "execute_result"
    }
   ],
   "source": [
    "neuron.activate(inputs[:,0])"
   ]
  },
  {
   "cell_type": "code",
   "execution_count": 400,
   "metadata": {},
   "outputs": [
    {
     "data": {
      "text/plain": [
       "0.3691485467870245"
      ]
     },
     "execution_count": 400,
     "metadata": {},
     "output_type": "execute_result"
    }
   ],
   "source": [
    "neuron.derivate(inputs[:,0])"
   ]
  },
  {
   "cell_type": "code",
   "execution_count": 401,
   "metadata": {},
   "outputs": [],
   "source": [
    "def energy_func(p,inputs,real_value):\n",
    "    return (((p.activate(inputs)-real_value)**2)/2).mean()\n",
    "\n",
    "def grad_enery(p,inputs,real_value):\n",
    "    \n",
    "    grad_w = 2*((p.activate(inputs)-real_value)/2)*inputs*p.derivate(inputs)\n",
    "    \n",
    "    grad_b = 2*((p.activate(inputs)-real_value)/2)*p.derivate(inputs)\n",
    "    \n",
    "    if len(grad_w.shape) > 1:\n",
    "        return np.concatenate((grad_w,np.expand_dims(grad_b,axis=0))).mean(axis=1)\n",
    "    else:\n",
    "        return np.concatenate((grad_w,np.expand_dims(grad_b,axis=0)))"
   ]
  },
  {
   "cell_type": "code",
   "execution_count": 402,
   "metadata": {},
   "outputs": [
    {
     "data": {
      "text/plain": [
       "0.3550260734851924"
      ]
     },
     "execution_count": 402,
     "metadata": {},
     "output_type": "execute_result"
    }
   ],
   "source": [
    "energy_func(neuron,inputs,test_output)"
   ]
  },
  {
   "cell_type": "code",
   "execution_count": 403,
   "metadata": {},
   "outputs": [
    {
     "data": {
      "text/plain": [
       "array([ 0.18030357,  0.18030357,  0.18030357,  0.18030357, -0.18030357])"
      ]
     },
     "execution_count": 403,
     "metadata": {},
     "output_type": "execute_result"
    }
   ],
   "source": [
    "grad_enery(neuron,inputs[:,0],test_output[0])"
   ]
  },
  {
   "cell_type": "code",
   "execution_count": 404,
   "metadata": {},
   "outputs": [
    {
     "data": {
      "text/plain": [
       "(5,)"
      ]
     },
     "execution_count": 404,
     "metadata": {},
     "output_type": "execute_result"
    }
   ],
   "source": [
    "grad_enery(neuron,inputs,test_output).shape"
   ]
  },
  {
   "cell_type": "markdown",
   "metadata": {},
   "source": [
    "## train the weights"
   ]
  },
  {
   "cell_type": "code",
   "execution_count": 415,
   "metadata": {},
   "outputs": [],
   "source": [
    "def check_for_linear_separability(inputs,outputs,nb_epoch,lr,method=\"grad\",plot=True):\n",
    "    \n",
    "    neuron = Perceptron(inputs.shape[0],activation_func,derivate_activation_func)\n",
    "    energies = np.zeros(nb_epoch)\n",
    "    \n",
    "    \n",
    "    for i in tqdm(range(nb_epoch)):\n",
    "\n",
    "\n",
    "        #inputs_method = inputs # gradient descent\n",
    "        \n",
    "        if method == \"grad\":\n",
    "            inputs_method = inputs\n",
    "            outputs_method = outputs\n",
    "        \n",
    "        elif method == \"sequential\":\n",
    "            index = i%inputs.shape[1]\n",
    "            inputs_method = inputs[:,index]\n",
    "            outputs_method = outputs[index]\n",
    "            \n",
    "        elif method == \"sto\":\n",
    "            index = np.random.randint(inputs.shape[1])\n",
    "            inputs_method = inputs[:,index]\n",
    "            outputs_method = outputs[index]\n",
    "        \n",
    "        else:\n",
    "            raise ValueError(f\"{method} is not a method\")\n",
    "            \n",
    "        energies[i] =energy_func(neuron,inputs_method,outputs_method)\n",
    "\n",
    "        grad = grad_enery(neuron,inputs_method,outputs_method)\n",
    "\n",
    "        grad_b = grad[-1]\n",
    "        grad_w = grad[0:-1]\n",
    "\n",
    "        neuron.w = neuron.w - lr*grad_w\n",
    "        neuron.b = neuron.b - lr*grad_b\n",
    "\n",
    "    \n",
    "    if plot:\n",
    "        plt.plot(energies)\n",
    "        print(energies[-1])\n",
    "    \n",
    "    return (np.sign(neuron.activate(inputs)) == outputs).all()"
   ]
  },
  {
   "cell_type": "markdown",
   "metadata": {},
   "source": [
    "## test on functions"
   ]
  },
  {
   "cell_type": "code",
   "execution_count": 440,
   "metadata": {},
   "outputs": [],
   "source": [
    "nb_epoch=int(1e3)\n",
    "lr = 0.02"
   ]
  },
  {
   "cell_type": "code",
   "execution_count": 441,
   "metadata": {},
   "outputs": [],
   "source": [
    "output = np.array( [1, 1, 1, 1, 1, 1, -1, -1, 1, 1, 1, 1, 1, -1, 1, -1] )"
   ]
  },
  {
   "cell_type": "code",
   "execution_count": 442,
   "metadata": {
    "scrolled": false
   },
   "outputs": [
    {
     "name": "stderr",
     "output_type": "stream",
     "text": [
      "100%|██████████| 1000/1000 [00:00<00:00, 13680.36it/s]"
     ]
    },
    {
     "name": "stdout",
     "output_type": "stream",
     "text": [
      "0.0009317320151394193\n"
     ]
    },
    {
     "name": "stderr",
     "output_type": "stream",
     "text": [
      "\n"
     ]
    },
    {
     "data": {
      "text/plain": [
       "True"
      ]
     },
     "execution_count": 442,
     "metadata": {},
     "output_type": "execute_result"
    },
    {
     "data": {
      "image/png": "[encoded data removed]",
      "text/plain": [
       "<Figure size 432x288 with 1 Axes>"
      ]
     },
     "metadata": {
      "needs_background": "light"
     },
     "output_type": "display_data"
    }
   ],
   "source": [
    "check_for_linear_separability(inputs,output,nb_epoch,lr=lr*inputs.shape[0],method=\"sto\")"
   ]
  },
  {
   "cell_type": "code",
   "execution_count": 438,
   "metadata": {},
   "outputs": [
    {
     "name": "stderr",
     "output_type": "stream",
     "text": [
      "100%|██████████| 1000/1000 [00:00<00:00, 11651.39it/s]"
     ]
    },
    {
     "name": "stdout",
     "output_type": "stream",
     "text": [
      "0.10775057835350689\n"
     ]
    },
    {
     "name": "stderr",
     "output_type": "stream",
     "text": [
      "\n"
     ]
    },
    {
     "data": {
      "text/plain": [
       "True"
      ]
     },
     "execution_count": 438,
     "metadata": {},
     "output_type": "execute_result"
    },
    {
     "data": {
      "image/png": "[encoded data removed]",
      "text/plain": [
       "<Figure size 432x288 with 1 Axes>"
      ]
     },
     "metadata": {
      "needs_background": "light"
     },
     "output_type": "display_data"
    }
   ],
   "source": [
    "check_for_linear_separability(inputs,output,nb_epoch,lr,method=\"grad\")"
   ]
  },
  {
   "cell_type": "code",
   "execution_count": 439,
   "metadata": {
    "scrolled": true
   },
   "outputs": [
    {
     "name": "stderr",
     "output_type": "stream",
     "text": [
      "100%|██████████| 1000/1000 [00:00<00:00, 18169.27it/s]"
     ]
    },
    {
     "name": "stdout",
     "output_type": "stream",
     "text": [
      "0.09223663335385264\n"
     ]
    },
    {
     "name": "stderr",
     "output_type": "stream",
     "text": [
      "\n"
     ]
    },
    {
     "data": {
      "text/plain": [
       "True"
      ]
     },
     "execution_count": 439,
     "metadata": {},
     "output_type": "execute_result"
    },
    {
     "data": {
      "image/png": "[encoded data removed]",
      "text/plain": [
       "<Figure size 432x288 with 1 Axes>"
      ]
     },
     "metadata": {
      "needs_background": "light"
     },
     "output_type": "display_data"
    }
   ],
   "source": [
    "check_for_linear_separability(inputs,output,nb_epoch,lr=lr*inputs.shape[0],method=\"sequential\")"
   ]
  },
  {
   "cell_type": "markdown",
   "metadata": {},
   "source": [
    "# Answer the questions"
   ]
  },
  {
   "cell_type": "code",
   "execution_count": 443,
   "metadata": {},
   "outputs": [],
   "source": [
    "outputs = [0,1,2,3,4,5]"
   ]
  },
  {
   "cell_type": "code",
   "execution_count": 444,
   "metadata": {},
   "outputs": [],
   "source": [
    "outputs[0] = np.array(  [1, 1, 1, 1, 1, 1, -1, -1, 1, 1, 1, 1, 1, -1, 1, -1]  )\n",
    "outputs[1] = np.array([1, 1, -1, 1, -1, 1, 1, 1, -1, -1, -1, -1, -1, -1, -1, -1] )\n",
    "outputs[2] = np.array([1, 1, 1, -1, -1, 1, -1, -1, -1, 1, -1, -1, -1, -1, -1, -1] )\n",
    "outputs[3] = np.array([1, -1, 1, 1, -1, 1, 1, 1, 1, -1, -1, 1, -1, 1, 1, -1])\n",
    "outputs[4] = np.array([-1, -1, 1, 1, 1, -1, -1, -1, -1, 1, 1, -1, 1, 1, 1, -1])\n",
    "outputs[5] = np.array([-1, -1, -1, 1, -1, 1, -1, -1, 1, -1, -1, 1, -1, -1, -1, -1])"
   ]
  },
  {
   "cell_type": "code",
   "execution_count": 450,
   "metadata": {},
   "outputs": [],
   "source": [
    "nb_epoch=int(1e5)\n",
    "lr = 0.02\n",
    "max_tries = 10"
   ]
  },
  {
   "cell_type": "code",
   "execution_count": 452,
   "metadata": {
    "scrolled": true
   },
   "outputs": [
    {
     "name": "stderr",
     "output_type": "stream",
     "text": [
      "100%|██████████| 100000/100000 [00:03<00:00, 25240.28it/s]\n",
      "  5%|▌         | 5088/100000 [00:00<00:03, 25525.78it/s]"
     ]
    },
    {
     "name": "stdout",
     "output_type": "stream",
     "text": [
      "===0 is True====\n"
     ]
    },
    {
     "name": "stderr",
     "output_type": "stream",
     "text": [
      "100%|██████████| 100000/100000 [00:04<00:00, 24935.13it/s]\n",
      "  5%|▍         | 4687/100000 [00:00<00:04, 23640.36it/s]"
     ]
    },
    {
     "name": "stdout",
     "output_type": "stream",
     "text": [
      "===1 is True====\n"
     ]
    },
    {
     "name": "stderr",
     "output_type": "stream",
     "text": [
      "100%|██████████| 100000/100000 [00:03<00:00, 25000.06it/s]\n",
      "  5%|▌         | 5089/100000 [00:00<00:03, 25422.07it/s]"
     ]
    },
    {
     "name": "stdout",
     "output_type": "stream",
     "text": [
      "===2 is True====\n"
     ]
    },
    {
     "name": "stderr",
     "output_type": "stream",
     "text": [
      "100%|██████████| 100000/100000 [00:03<00:00, 25056.59it/s]\n",
      "100%|██████████| 100000/100000 [00:04<00:00, 24097.58it/s]\n",
      "100%|██████████| 100000/100000 [00:04<00:00, 24436.75it/s]\n",
      "100%|██████████| 100000/100000 [00:04<00:00, 23815.64it/s]\n",
      "100%|██████████| 100000/100000 [00:04<00:00, 21685.19it/s]\n",
      "100%|██████████| 100000/100000 [00:04<00:00, 21670.92it/s]\n",
      "100%|██████████| 100000/100000 [00:04<00:00, 21847.05it/s]\n",
      "100%|██████████| 100000/100000 [00:04<00:00, 21810.55it/s]\n",
      "100%|██████████| 100000/100000 [00:04<00:00, 21646.78it/s]\n",
      "100%|██████████| 100000/100000 [00:04<00:00, 22067.68it/s]\n",
      "  4%|▍         | 4111/100000 [00:00<00:04, 20677.91it/s]"
     ]
    },
    {
     "name": "stdout",
     "output_type": "stream",
     "text": [
      "===3 is False====\n"
     ]
    },
    {
     "name": "stderr",
     "output_type": "stream",
     "text": [
      "100%|██████████| 100000/100000 [00:04<00:00, 21968.99it/s]\n",
      "100%|██████████| 100000/100000 [00:04<00:00, 21926.15it/s]\n",
      "100%|██████████| 100000/100000 [00:04<00:00, 22427.96it/s]\n",
      "100%|██████████| 100000/100000 [00:04<00:00, 22389.27it/s]\n",
      "100%|██████████| 100000/100000 [00:04<00:00, 21947.22it/s]\n",
      "100%|██████████| 100000/100000 [00:04<00:00, 20668.35it/s]\n",
      "100%|██████████| 100000/100000 [00:04<00:00, 21844.51it/s]\n",
      "100%|██████████| 100000/100000 [00:04<00:00, 21307.86it/s]\n",
      "100%|██████████| 100000/100000 [00:04<00:00, 21214.37it/s]\n",
      "100%|██████████| 100000/100000 [00:04<00:00, 21966.18it/s]\n",
      "  4%|▍         | 4370/100000 [00:00<00:04, 21891.47it/s]"
     ]
    },
    {
     "name": "stdout",
     "output_type": "stream",
     "text": [
      "===4 is False====\n"
     ]
    },
    {
     "name": "stderr",
     "output_type": "stream",
     "text": [
      "100%|██████████| 100000/100000 [00:04<00:00, 21681.03it/s]\n",
      "100%|██████████| 100000/100000 [00:04<00:00, 21548.49it/s]\n",
      "100%|██████████| 100000/100000 [00:04<00:00, 21456.20it/s]\n",
      "100%|██████████| 100000/100000 [00:04<00:00, 21792.14it/s]\n",
      "100%|██████████| 100000/100000 [00:04<00:00, 22029.48it/s]\n",
      "100%|██████████| 100000/100000 [00:04<00:00, 22103.50it/s]\n",
      "100%|██████████| 100000/100000 [00:04<00:00, 21874.00it/s]\n",
      "100%|██████████| 100000/100000 [00:04<00:00, 22251.20it/s]\n",
      "100%|██████████| 100000/100000 [00:04<00:00, 21998.10it/s]\n",
      "100%|██████████| 100000/100000 [00:04<00:00, 22036.79it/s]"
     ]
    },
    {
     "name": "stdout",
     "output_type": "stream",
     "text": [
      "===5 is False====\n"
     ]
    },
    {
     "name": "stderr",
     "output_type": "stream",
     "text": [
      "\n"
     ]
    }
   ],
   "source": [
    "for i in range(6):\n",
    "        \n",
    "    for _ in range(max_tries):\n",
    "        is_seperable = check_for_linear_separability(inputs,outputs[i],nb_epoch,lr,method=\"sequential\",plot=False)\n",
    "        if is_seperable:\n",
    "            break\n",
    "    print(f\"=== {i} is {is_seperable} ====\")"
   ]
  }
 ],
 "metadata": {
  "kernelspec": {
   "display_name": "Python 3",
   "language": "python",
   "name": "python3"
  },
  "language_info": {
   "codemirror_mode": {
    "name": "ipython",
    "version": 3
   },
   "file_extension": ".py",
   "mimetype": "text/x-python",
   "name": "python",
   "nbconvert_exporter": "python",
   "pygments_lexer": "ipython3",
   "version": "3.8.5"
  }
 },
 "nbformat": 4,
 "nbformat_minor": 4
}
