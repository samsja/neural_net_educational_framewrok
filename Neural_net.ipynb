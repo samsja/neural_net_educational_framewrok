{
 "cells": [
  {
   "cell_type": "markdown",
   "metadata": {},
   "source": [
    "# Two-layer perceptron"
   ]
  },
  {
   "cell_type": "code",
   "execution_count": 1,
   "metadata": {},
   "outputs": [],
   "source": [
    "import numpy as np\n",
    "from tqdm import tqdm\n",
    "import matplotlib.pyplot as plt\n",
    "import pandas as pd"
   ]
  },
  {
   "cell_type": "markdown",
   "metadata": {},
   "source": [
    "## load the data"
   ]
  },
  {
   "cell_type": "code",
   "execution_count": 2,
   "metadata": {},
   "outputs": [],
   "source": [
    "training_data = np.genfromtxt('data/training_set.csv', delimiter=',')\n",
    "validation_data = np.genfromtxt('data/validation_set.csv', delimiter=',')"
   ]
  },
  {
   "cell_type": "code",
   "execution_count": 3,
   "metadata": {},
   "outputs": [],
   "source": [
    "def preprocess_data(data):\n",
    "    return data[:,0:2],np.expand_dims(data[:,-1],axis=1)"
   ]
  },
  {
   "cell_type": "code",
   "execution_count": 4,
   "metadata": {},
   "outputs": [
    {
     "data": {
      "text/plain": [
       "((10000, 2), (10000, 1))"
      ]
     },
     "execution_count": 4,
     "metadata": {},
     "output_type": "execute_result"
    }
   ],
   "source": [
    "training_inputs,training_outputs = preprocess_data(training_data)\n",
    "(training_inputs.shape,training_outputs.shape)"
   ]
  },
  {
   "cell_type": "code",
   "execution_count": 5,
   "metadata": {},
   "outputs": [],
   "source": [
    "validation_inputs,validation_outputs = preprocess_data(validation_data)"
   ]
  },
  {
   "cell_type": "code",
   "execution_count": 6,
   "metadata": {},
   "outputs": [],
   "source": [
    "df = pd.read_csv('data/training_set.csv', delimiter=',',header=None)"
   ]
  },
  {
   "cell_type": "code",
   "execution_count": 7,
   "metadata": {},
   "outputs": [
    {
     "data": {
      "text/plain": [
       "((1474,), (8526,))"
      ]
     },
     "execution_count": 7,
     "metadata": {},
     "output_type": "execute_result"
    }
   ],
   "source": [
    "df[0][df[2]==1].shape,df[0][df[2]==-1].shape"
   ]
  },
  {
   "cell_type": "code",
   "execution_count": 8,
   "metadata": {},
   "outputs": [
    {
     "data": {
      "text/plain": [
       "[<matplotlib.lines.Line2D at 0x7fb22c09d190>]"
      ]
     },
     "execution_count": 8,
     "metadata": {},
     "output_type": "execute_result"
    },
    {
     "data": {
      "image/png": "[encoded data removed]",
      "text/plain": [
       "<Figure size 432x288 with 1 Axes>"
      ]
     },
     "metadata": {
      "needs_background": "light"
     },
     "output_type": "display_data"
    }
   ],
   "source": [
    "plt.plot(df[0][df[2]==1],df[1][df[2]==1])\n",
    "plt.plot(df[0][df[2]==-1],df[1][df[2]==-1])"
   ]
  },
  {
   "cell_type": "markdown",
   "metadata": {},
   "source": [
    "## Define the neural net"
   ]
  },
  {
   "cell_type": "markdown",
   "metadata": {},
   "source": [
    "### 1. define a layer "
   ]
  },
  {
   "cell_type": "code",
   "execution_count": 9,
   "metadata": {},
   "outputs": [],
   "source": [
    "import numpy as np\n",
    "\n",
    "class Layer_Perceptron:\n",
    "    \n",
    "    def __init__(self,number_of_input,number_of_neurons,activation_function,derivate_activation_function,weight=None,bias=None,random_weight=True,weight_range=0.2,bias_range=1):\n",
    "        \n",
    "        self.n = number_of_input\n",
    "        self.m = number_of_neurons\n",
    "        self._activation_function = activation_function\n",
    "        self._derivate_activation_function = derivate_activation_function\n",
    "        \n",
    "        if (weight==None):\n",
    "            if random_weight:\n",
    "                self.w = weight_range*(2*np.random.rand(self.n,self.m)-1)\n",
    "            else:\n",
    "                self.w = np.zeros((self.n,self.m))\n",
    "        \n",
    "        else:\n",
    "            if not(weight.shape== (self.n,)):\n",
    "                raise ValueError(f\"weight param should be of shape ({self.n},) but it is {weight.shape}\")\n",
    "            else:\n",
    "                self.w = weight\n",
    "        \n",
    "        if (bias==None):\n",
    "            if random_weight:\n",
    "                self.b= bias_range*(2*np.random.rand(self.m,1)-1)\n",
    "            else:\n",
    "                self.b = 0\n",
    "        \n",
    "        else:\n",
    "            self.b = bias\n",
    "    \n",
    "    \n",
    "    def local_field(self,x):\n",
    "        return ((self.w.T@x.T) + self.b).T\n",
    "    \n",
    "    def activate(self,x):        \n",
    "        return self._activate_lf(self.local_field(x))\n",
    "    \n",
    "    def _activate_lf(self,lf):\n",
    "        return self._activation_function(lf)\n",
    "    \n",
    "    def grad(self,x):\n",
    "        return self._grad_lf(self.local_field(x))\n",
    "\n",
    "    def _grad_lf(self,lf):\n",
    "        return self._derivate_activation_function(lf)\n",
    "    \n"
   ]
  },
  {
   "cell_type": "code",
   "execution_count": 10,
   "metadata": {},
   "outputs": [],
   "source": [
    "activation_func = lambda x : np.tanh(x)\n",
    "derivate_activation_func = lambda x :  (1-np.tanh(x)**2)"
   ]
  },
  {
   "cell_type": "code",
   "execution_count": 11,
   "metadata": {},
   "outputs": [],
   "source": [
    "M1 = 3\n",
    "M2 = 4"
   ]
  },
  {
   "cell_type": "code",
   "execution_count": 12,
   "metadata": {},
   "outputs": [],
   "source": [
    "layer1 = Layer_Perceptron(training_inputs.shape[1],M1,activation_func,derivate_activation_func)\n",
    "layer2 = Layer_Perceptron(layer1.w.shape[1],M2,activation_func,derivate_activation_func)\n",
    "layer3 = Layer_Perceptron(layer2.w.shape[1],1,activation_func,derivate_activation_func)"
   ]
  },
  {
   "cell_type": "code",
   "execution_count": 13,
   "metadata": {},
   "outputs": [
    {
     "data": {
      "text/plain": [
       "(1, 3)"
      ]
     },
     "execution_count": 13,
     "metadata": {},
     "output_type": "execute_result"
    }
   ],
   "source": [
    "layer1.activate(training_inputs[0:1,:]).shape"
   ]
  },
  {
   "cell_type": "markdown",
   "metadata": {},
   "source": [
    "### 2. Energies functions"
   ]
  },
  {
   "cell_type": "code",
   "execution_count": 14,
   "metadata": {},
   "outputs": [],
   "source": [
    "class LossFunction:\n",
    "    \n",
    "    def __init__(self,loss,grad):\n",
    "        self.loss = loss\n",
    "        self.grad = grad\n",
    "    \n",
    "    def total_loss(self,inputs,outputs):\n",
    "        return self.loss(inputs,outputs).mean()\n",
    "    \n",
    "    def total_grad(self,inputs,outputs):\n",
    "        return self.grad(inputs,outputs).mean()\n"
   ]
  },
  {
   "cell_type": "code",
   "execution_count": 15,
   "metadata": {},
   "outputs": [],
   "source": [
    "def energy_func(inputs,real_values):\n",
    "    return ((inputs-real_values)**2)\n",
    "\n",
    "def energy_derivate(inputs,real_values):\n",
    "    return 2*(inputs-real_values)\n",
    "\n",
    "energy = LossFunction(energy_func,energy_derivate)"
   ]
  },
  {
   "cell_type": "markdown",
   "metadata": {},
   "source": [
    "### 3. NeuralNet"
   ]
  },
  {
   "cell_type": "code",
   "execution_count": 16,
   "metadata": {},
   "outputs": [],
   "source": [
    "class NeuralNet:\n",
    "    \n",
    "    def __init__(self,layers):\n",
    "        \n",
    "        self.L = len(layers)\n",
    "        self.layers = layers\n",
    "    \n",
    "    def activate(self,inputs,l=None): \n",
    "        if l == None:\n",
    "            l= self.L-1\n",
    "        if l ==-1:\n",
    "            return inputs\n",
    "        return self.layers[l]._activate_lf(self.local_field_forwad(inputs,l))\n",
    "        \n",
    "        \n",
    "    def local_field_forwad(self,inputs,l):\n",
    "        outputs = inputs\n",
    "        for i in range(l):\n",
    "            outputs = self.layers[i].activate(outputs)\n",
    "        \n",
    " \n",
    "        local_field = self.layers[l].local_field(outputs)\n",
    "            \n",
    "        return local_field  "
   ]
  },
  {
   "cell_type": "code",
   "execution_count": 17,
   "metadata": {},
   "outputs": [],
   "source": [
    "nn = NeuralNet([layer1,layer2,layer3])"
   ]
  },
  {
   "cell_type": "code",
   "execution_count": 18,
   "metadata": {},
   "outputs": [
    {
     "data": {
      "text/plain": [
       "(10000, 1)"
      ]
     },
     "execution_count": 18,
     "metadata": {},
     "output_type": "execute_result"
    }
   ],
   "source": [
    "nn.local_field_forwad(training_inputs,2).shape"
   ]
  },
  {
   "cell_type": "code",
   "execution_count": 19,
   "metadata": {},
   "outputs": [
    {
     "data": {
      "text/plain": [
       "(10000, 1)"
      ]
     },
     "execution_count": 19,
     "metadata": {},
     "output_type": "execute_result"
    }
   ],
   "source": [
    "nn.activate(training_inputs,2).shape"
   ]
  },
  {
   "cell_type": "markdown",
   "metadata": {},
   "source": [
    "## Gradient descent"
   ]
  },
  {
   "cell_type": "code",
   "execution_count": 52,
   "metadata": {},
   "outputs": [],
   "source": [
    "M1 = 7\n",
    "M2 = 8\n",
    "\n",
    "wr=1\n",
    "br=1"
   ]
  },
  {
   "cell_type": "code",
   "execution_count": 53,
   "metadata": {},
   "outputs": [],
   "source": [
    "layer1 = Layer_Perceptron(training_inputs.shape[1],M1,activation_func,derivate_activation_func,weight_range=wr,bias_range=br)\n",
    "layer2 = Layer_Perceptron(layer1.w.shape[1],M2,activation_func,derivate_activation_func,weight_range=wr,bias_range=br)\n",
    "layer3 = Layer_Perceptron(layer2.w.shape[1],1,activation_func,derivate_activation_func,weight_range=wr,bias_range=br)"
   ]
  },
  {
   "cell_type": "code",
   "execution_count": 54,
   "metadata": {},
   "outputs": [],
   "source": [
    "nn = NeuralNet([layer1,layer2,layer3])"
   ]
  },
  {
   "cell_type": "code",
   "execution_count": 55,
   "metadata": {},
   "outputs": [],
   "source": [
    "loss = energy\n",
    "inputs = training_inputs\n",
    "outputs = training_outputs"
   ]
  },
  {
   "cell_type": "code",
   "execution_count": 56,
   "metadata": {},
   "outputs": [],
   "source": [
    "lr = 0.2\n",
    "max_iter = int(1e3)"
   ]
  },
  {
   "cell_type": "code",
   "execution_count": 57,
   "metadata": {},
   "outputs": [],
   "source": [
    "losses = np.zeros(max_iter)\n",
    "losses_val = np.zeros(max_iter)"
   ]
  },
  {
   "cell_type": "code",
   "execution_count": 58,
   "metadata": {
    "scrolled": false
   },
   "outputs": [
    {
     "name": "stderr",
     "output_type": "stream",
     "text": [
      "100%|██████████| 100/100 [00:11<00:00,  8.60it/s]\n"
     ]
    },
    {
     "data": {
      "text/plain": [
       "[<matplotlib.lines.Line2D at 0x7fb2268f52b0>]"
      ]
     },
     "execution_count": 58,
     "metadata": {},
     "output_type": "execute_result"
    },
    {
     "data": {
      "image/png": "[encoded data removed]",
      "text/plain": [
       "<Figure size 432x288 with 1 Axes>"
      ]
     },
     "metadata": {
      "needs_background": "light"
     },
     "output_type": "display_data"
    }
   ],
   "source": [
    "grads_w = [np.zeros(layer.w.shape) for layer in nn.layers]\n",
    "grads_b = [np.zeros(layer.b.shape) for layer in nn.layers]\n",
    "\n",
    "\n",
    "\n",
    "for epoch in tqdm(range(max_iter)):\n",
    "    \n",
    "    losses[epoch] = loss.total_loss(nn.activate(inputs),outputs)\n",
    "    losses_val[epoch] = loss.total_loss(nn.activate(validation_inputs),validation_outputs)\n",
    "    \n",
    "    back_prop = loss.grad(nn.activate(inputs),outputs)\n",
    "    \n",
    "    for i in reversed(range(nn.L)):\n",
    "        l = nn.layers[i]\n",
    "        nb_inputs = inputs.shape[0]\n",
    "\n",
    "        grad_layer = l._grad_lf(nn.local_field_forwad(inputs,i))\n",
    "        activation= nn.activate(inputs,i-1)\n",
    "        \n",
    "        \n",
    "        grads_w[i] = activation.T@(back_prop*grad_layer)/nb_inputs\n",
    "        grads_b[i] = (np.ones((activation.shape[0],1)).T@(back_prop*grad_layer)).T/nb_inputs\n",
    "\n",
    "        back_prop = (grad_layer*back_prop)@l.w.T\n",
    "\n",
    "\n",
    "    for i in range(nn.L):\n",
    "\n",
    "        nn.layers[i].w =nn.layers[i].w - lr*grads_w[i]\n",
    "        nn.layers[i].b =nn.layers[i].b - lr*grads_b[i]\n",
    "\n",
    "\n",
    "\n",
    "plt.plot(losses)\n",
    "plt.plot(losses_val)"
   ]
  },
  {
   "cell_type": "markdown",
   "metadata": {},
   "source": [
    "# errors pourcentage"
   ]
  },
  {
   "cell_type": "code",
   "execution_count": 59,
   "metadata": {},
   "outputs": [
    {
     "data": {
      "text/plain": [
       "0.15159999999999996"
      ]
     },
     "execution_count": 59,
     "metadata": {},
     "output_type": "execute_result"
    }
   ],
   "source": [
    "1- (np.sign(nn.activate(validation_inputs))==validation_outputs).mean()"
   ]
  },
  {
   "cell_type": "code",
   "execution_count": 60,
   "metadata": {},
   "outputs": [
    {
     "data": {
      "text/plain": [
       "0.1516"
      ]
     },
     "execution_count": 60,
     "metadata": {},
     "output_type": "execute_result"
    }
   ],
   "source": [
    "np.abs((np.sign(nn.activate(validation_inputs)) - validation_outputs)).mean()/2"
   ]
  }
 ],
 "metadata": {
  "kernelspec": {
   "display_name": "Python 3",
   "language": "python",
   "name": "python3"
  },
  "language_info": {
   "codemirror_mode": {
    "name": "ipython",
    "version": 3
   },
   "file_extension": ".py",
   "mimetype": "text/x-python",
   "name": "python",
   "nbconvert_exporter": "python",
   "pygments_lexer": "ipython3",
   "version": "3.8.5"
  }
 },
 "nbformat": 4,
 "nbformat_minor": 4
}
