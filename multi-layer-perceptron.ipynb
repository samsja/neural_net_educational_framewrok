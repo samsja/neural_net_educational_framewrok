{
 "cells": [
  {
   "cell_type": "markdown",
   "metadata": {},
   "source": [
    "# Two-layer perceptron"
   ]
  },
  {
   "cell_type": "code",
   "execution_count": 1,
   "metadata": {},
   "outputs": [],
   "source": [
    "import numpy as np\n",
    "from tqdm import tqdm\n",
    "import matplotlib.pyplot as plt"
   ]
  },
  {
   "cell_type": "markdown",
   "metadata": {},
   "source": [
    "## load the data"
   ]
  },
  {
   "cell_type": "code",
   "execution_count": 19,
   "metadata": {},
   "outputs": [],
   "source": [
    "training_data = np.genfromtxt('data/training_set.csv', delimiter=',')\n",
    "validation_data = np.genfromtxt('data/validation_set.csv', delimiter=',')"
   ]
  },
  {
   "cell_type": "code",
   "execution_count": 59,
   "metadata": {},
   "outputs": [],
   "source": [
    "def preprocess_data(data):\n",
    "    return data[:,0:2],data[:,-1]"
   ]
  },
  {
   "cell_type": "code",
   "execution_count": 60,
   "metadata": {},
   "outputs": [
    {
     "data": {
      "text/plain": [
       "((10000, 2), (10000,))"
      ]
     },
     "execution_count": 60,
     "metadata": {},
     "output_type": "execute_result"
    }
   ],
   "source": [
    "training_inputs,training_outputs = preprocess_data(training_data)\n",
    "(training_inputs.shape,training_outputs.shape)"
   ]
  },
  {
   "cell_type": "code",
   "execution_count": 61,
   "metadata": {},
   "outputs": [],
   "source": [
    "validation_inputs,validation_outputs = preprocess_data(training_data)"
   ]
  },
  {
   "cell_type": "markdown",
   "metadata": {},
   "source": [
    "## define the neural net"
   ]
  },
  {
   "cell_type": "code",
   "execution_count": 62,
   "metadata": {},
   "outputs": [],
   "source": [
    "import numpy as np\n",
    "\n",
    "class Layer_Perceptron:\n",
    "    \n",
    "    def __init__(self,number_of_input,number_of_neurons,activation_function,derivate_activation_function,weight=None,bias=None,random_weight=True,weight_range=0.2,bias_range=1):\n",
    "        \n",
    "        self.n = number_of_input\n",
    "        self.m = number_of_neurons\n",
    "        self.activation_function = activation_function\n",
    "        self.derivate_activation_function = derivate_activation_function\n",
    "        \n",
    "        if (weight==None):\n",
    "            if random_weight:\n",
    "                self.w = weight_range*(2*np.random.rand(self.n,self.m)-1)\n",
    "            else:\n",
    "                self.w = np.zeros((self.n,self.m))\n",
    "        \n",
    "        else:\n",
    "            if not(weight.shape== (self.n,)):\n",
    "                raise ValueError(f\"weight param should be of shape ({self.n},) but it is {weight.shape}\")\n",
    "            else:\n",
    "                self.w = weight\n",
    "        \n",
    "        if (bias==None):\n",
    "            if random_weight:\n",
    "                self.b= bias_range*(2*np.random.rand(self.m)-1)\n",
    "            else:\n",
    "                self.b = 0\n",
    "        \n",
    "        else:\n",
    "            self.b = bias\n",
    "    \n",
    "    \n",
    "    def activate(self,x):        \n",
    "        return self.activation_function(self.w.T@x + self.b)\n",
    "    \n",
    "    def derivate(self,x):\n",
    "        return self.derivate_activation_function(self.w.T@x + self.b)\n"
   ]
  },
  {
   "cell_type": "code",
   "execution_count": 63,
   "metadata": {},
   "outputs": [],
   "source": [
    "activation_func = lambda x : np.tanh(x)\n",
    "derivate_activation_func = lambda x :  (1-np.tanh(x)**2)"
   ]
  },
  {
   "cell_type": "code",
   "execution_count": 64,
   "metadata": {},
   "outputs": [],
   "source": [
    "M1 = 3\n",
    "M2 = 2"
   ]
  },
  {
   "cell_type": "code",
   "execution_count": 77,
   "metadata": {},
   "outputs": [],
   "source": [
    "layer1 = Layer_Perceptron(training_inputs.shape[1],M1,activation_func,derivate_activation_func)\n",
    "layer2 = Layer_Perceptron(training_inputs.shape[1],M2,activation_func,derivate_activation_func)\n",
    "layer3 = Layer_Perceptron(training_inputs.shape[1],1,activation_func,derivate_activation_func)"
   ]
  },
  {
   "cell_type": "code",
   "execution_count": null,
   "metadata": {},
   "outputs": [],
   "source": []
  }
 ],
 "metadata": {
  "kernelspec": {
   "display_name": "Python 3",
   "language": "python",
   "name": "python3"
  },
  "language_info": {
   "codemirror_mode": {
    "name": "ipython",
    "version": 3
   },
   "file_extension": ".py",
   "mimetype": "text/x-python",
   "name": "python",
   "nbconvert_exporter": "python",
   "pygments_lexer": "ipython3",
   "version": "3.8.5"
  }
 },
 "nbformat": 4,
 "nbformat_minor": 4
}
