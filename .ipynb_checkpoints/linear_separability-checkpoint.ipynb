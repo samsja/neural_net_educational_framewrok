{
 "cells": [
  {
   "cell_type": "markdown",
   "metadata": {},
   "source": [
    "# Is a 4-d boolean function sepereable ?"
   ]
  },
  {
   "cell_type": "code",
   "execution_count": 2,
   "metadata": {},
   "outputs": [],
   "source": [
    "import numpy as np"
   ]
  },
  {
   "cell_type": "code",
   "execution_count": 245,
   "metadata": {},
   "outputs": [],
   "source": [
    "from tqdm import tqdm"
   ]
  },
  {
   "cell_type": "code",
   "execution_count": 248,
   "metadata": {},
   "outputs": [],
   "source": [
    "import matplotlib.pyplot as plt"
   ]
  },
  {
   "cell_type": "markdown",
   "metadata": {},
   "source": [
    "## load the data for the function"
   ]
  },
  {
   "cell_type": "code",
   "execution_count": 8,
   "metadata": {},
   "outputs": [],
   "source": [
    "data = np.genfromtxt('data/input_data_numeric.csv', delimiter=',')"
   ]
  },
  {
   "cell_type": "code",
   "execution_count": 14,
   "metadata": {
    "scrolled": true
   },
   "outputs": [
    {
     "data": {
      "text/plain": [
       "(16, 5)"
      ]
     },
     "execution_count": 14,
     "metadata": {},
     "output_type": "execute_result"
    }
   ],
   "source": [
    "data.shape"
   ]
  },
  {
   "cell_type": "code",
   "execution_count": 75,
   "metadata": {},
   "outputs": [],
   "source": [
    "inputs = data[:,1:5].T"
   ]
  },
  {
   "cell_type": "code",
   "execution_count": 76,
   "metadata": {},
   "outputs": [],
   "source": [
    "test_output = np.array( [1, 1, 1, 1, 1, 1, -1, -1, 1, 1, 1, 1, 1, -1, 1, -1] )"
   ]
  },
  {
   "cell_type": "markdown",
   "metadata": {},
   "source": [
    "## define the perceptron structure"
   ]
  },
  {
   "cell_type": "code",
   "execution_count": 77,
   "metadata": {},
   "outputs": [],
   "source": [
    "class Perceptron:\n",
    "    \n",
    "    def __init__(self,number_of_input,activation_function,derivate_activation_function,weight=None,bias=None,random_weight=True,weight_range=0.2,bias_range=1):\n",
    "        \n",
    "        self.n = number_of_input\n",
    "        self.activation_function = activation_function\n",
    "        self.derivate_activation_function = derivate_activation_function\n",
    "        \n",
    "        if (weight==None):\n",
    "            if random_weight:\n",
    "                self.w = weight_range*(2*np.random.rand(self.n) - 1)\n",
    "            else:\n",
    "                self.w = np.zeros(self.n)\n",
    "        \n",
    "        else:\n",
    "            if not(weight.shape== (self.n,)):\n",
    "                raise ValueError(f\"weight param should be of shape ({self.n},) but it is {weight.shape}\")\n",
    "            else:\n",
    "                self.w = weight\n",
    "        \n",
    "        if (bias==None):\n",
    "            if random_weight:\n",
    "                self.b= bias_range*(2*np.random.rand()-1)\n",
    "            else:\n",
    "                self.b = 0\n",
    "        \n",
    "        else:\n",
    "            self.b = bias\n",
    "    \n",
    "    \n",
    "    def activate(self,x):        \n",
    "        return self.activation_function(self.w.T@x + self.b)\n",
    "    \n",
    "    def derivate(self,x):\n",
    "        return self.derivate_activation_function(self.w.T@x + self.b)\n"
   ]
  },
  {
   "cell_type": "code",
   "execution_count": 78,
   "metadata": {},
   "outputs": [],
   "source": [
    "activation_func = lambda x : np.tanh(x/2)"
   ]
  },
  {
   "cell_type": "code",
   "execution_count": 79,
   "metadata": {},
   "outputs": [],
   "source": [
    "derivate_activation_func = lambda x :  (1-np.tanh(x/2)**2)/2"
   ]
  },
  {
   "cell_type": "markdown",
   "metadata": {},
   "source": [
    "## Define energy func and grad"
   ]
  },
  {
   "cell_type": "code",
   "execution_count": 110,
   "metadata": {},
   "outputs": [],
   "source": [
    "neuron = Perceptron(inputs.shape[0],activation_func,derivate_activation_func)"
   ]
  },
  {
   "cell_type": "code",
   "execution_count": 111,
   "metadata": {},
   "outputs": [
    {
     "data": {
      "text/plain": [
       "0.2649250351961237"
      ]
     },
     "execution_count": 111,
     "metadata": {},
     "output_type": "execute_result"
    }
   ],
   "source": [
    "neuron.activate(inputs[:,0])"
   ]
  },
  {
   "cell_type": "code",
   "execution_count": 112,
   "metadata": {},
   "outputs": [
    {
     "data": {
      "text/plain": [
       "0.4649073628631663"
      ]
     },
     "execution_count": 112,
     "metadata": {},
     "output_type": "execute_result"
    }
   ],
   "source": [
    "neuron.derivate(inputs[:,0])"
   ]
  },
  {
   "cell_type": "code",
   "execution_count": 298,
   "metadata": {},
   "outputs": [],
   "source": [
    "def energy_func(p,inputs,real_value):\n",
    "    return (((p.activate(inputs)-real_value)**2)/2).mean()\n",
    "\n",
    "def grad_enery(p,inputs,real_value):\n",
    "    \n",
    "    grad_w = 2*((p.activate(inputs)-real_value)/2)*inputs*p.derivate(inputs)\n",
    "    \n",
    "    grad_b = 2*((p.activate(inputs)-real_value)/2)*p.derivate(inputs)\n",
    "    \n",
    "    if len(grad_w.shape) > 1:\n",
    "        return np.concatenate((grad_w,np.expand_dims(grad_b,axis=0))).mean(axis=1)\n",
    "    else:\n",
    "        return np.concatenate((grad_w,np.expand_dims(grad_b,axis=0)))"
   ]
  },
  {
   "cell_type": "code",
   "execution_count": 299,
   "metadata": {},
   "outputs": [
    {
     "data": {
      "text/plain": [
       "0.06874131141325379"
      ]
     },
     "execution_count": 299,
     "metadata": {},
     "output_type": "execute_result"
    }
   ],
   "source": [
    "energy_func(neuron,inputs,test_output)"
   ]
  },
  {
   "cell_type": "code",
   "execution_count": 300,
   "metadata": {},
   "outputs": [
    {
     "data": {
      "text/plain": [
       "array([ 0.00028204,  0.00028204,  0.00028204,  0.00028204, -0.00028204])"
      ]
     },
     "execution_count": 300,
     "metadata": {},
     "output_type": "execute_result"
    }
   ],
   "source": [
    "grad_enery(neuron,inputs[:,0],test_output[0])"
   ]
  },
  {
   "cell_type": "code",
   "execution_count": 301,
   "metadata": {},
   "outputs": [
    {
     "data": {
      "text/plain": [
       "(5,)"
      ]
     },
     "execution_count": 301,
     "metadata": {},
     "output_type": "execute_result"
    }
   ],
   "source": [
    "grad_enery(neuron,inputs,test_output).shape"
   ]
  },
  {
   "cell_type": "markdown",
   "metadata": {},
   "source": [
    "## train the weights"
   ]
  },
  {
   "cell_type": "code",
   "execution_count": 328,
   "metadata": {},
   "outputs": [],
   "source": [
    "def check_for_linear_separability(inputs,outputs,nb_epoch,lr,method=\"grad\",plot=True):\n",
    "    \n",
    "    neuron = Perceptron(inputs.shape[0],activation_func,derivate_activation_func)\n",
    "    energies = np.zeros(nb_epoch)\n",
    "    \n",
    "    for i in tqdm(range(nb_epoch)):\n",
    "\n",
    "\n",
    "        #inputs_method = inputs # gradient descent\n",
    "\n",
    "        inputs_method = inputs\n",
    "\n",
    "        energies[i] =energy_func(neuron,inputs_method,test_output)\n",
    "\n",
    "        grad = grad_enery(neuron,inputs_method,test_output)\n",
    "\n",
    "        grad_b = grad[-1]\n",
    "        grad_w = grad[0:-1]\n",
    "\n",
    "        neuron.w = neuron.w - lr*grad_w\n",
    "        neuron.b = neuron.b - lr*grad_b\n",
    "\n",
    "    \n",
    "    if plot:\n",
    "        plt.plot(energies)\n",
    "        print(energies[-1])\n",
    "    \n",
    "    return (np.sign(neuron.activate(inputs)) == outputs).all()"
   ]
  },
  {
   "cell_type": "markdown",
   "metadata": {},
   "source": [
    "## test on functions"
   ]
  },
  {
   "cell_type": "code",
   "execution_count": 329,
   "metadata": {},
   "outputs": [],
   "source": [
    "nb_epoch=int(1e3)\n",
    "lr = 0.02"
   ]
  },
  {
   "cell_type": "code",
   "execution_count": null,
   "metadata": {},
   "outputs": [],
   "source": [
    "output = np.array( [1, 1, 1, 1, 1, 1, -1, -1, 1, 1, 1, 1, 1, -1, 1, -1] )"
   ]
  },
  {
   "cell_type": "code",
   "execution_count": 332,
   "metadata": {
    "scrolled": true
   },
   "outputs": [
    {
     "name": "stderr",
     "output_type": "stream",
     "text": [
      "100%|██████████| 1000/1000 [00:00<00:00, 10919.51it/s]"
     ]
    },
    {
     "name": "stdout",
     "output_type": "stream",
     "text": [
      "0.1047837424918939\n"
     ]
    },
    {
     "name": "stderr",
     "output_type": "stream",
     "text": [
      "\n"
     ]
    },
    {
     "data": {
      "text/plain": [
       "True"
      ]
     },
     "execution_count": 332,
     "metadata": {},
     "output_type": "execute_result"
    },
    {
     "data": {
      "image/png": "[encoded data removed]",
      "text/plain": [
       "<Figure size 432x288 with 1 Axes>"
      ]
     },
     "metadata": {
      "needs_background": "light"
     },
     "output_type": "display_data"
    }
   ],
   "source": [
    "check_for_linear_separability(inputs,test_output,nb_epoch,lr)"
   ]
  }
 ],
 "metadata": {
  "kernelspec": {
   "display_name": "Python 3",
   "language": "python",
   "name": "python3"
  },
  "language_info": {
   "codemirror_mode": {
    "name": "ipython",
    "version": 3
   },
   "file_extension": ".py",
   "mimetype": "text/x-python",
   "name": "python",
   "nbconvert_exporter": "python",
   "pygments_lexer": "ipython3",
   "version": "3.8.5"
  }
 },
 "nbformat": 4,
 "nbformat_minor": 4
}
